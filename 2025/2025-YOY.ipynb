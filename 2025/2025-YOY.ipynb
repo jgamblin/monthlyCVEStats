{
 "cells": [
  {
   "attachments": {},
   "cell_type": "markdown",
   "id": "36813e36",
   "metadata": {},
   "source": [
    "## 2025 YOY Growth Data"
   ]
  },
  {
   "cell_type": "code",
   "execution_count": 1,
   "id": "05dc04fc",
   "metadata": {},
   "outputs": [],
   "source": [
    "%%capture\n",
    "#!rm *.jsonl  \n",
    "#!wget -q https://nvd.handsonhacking.org/nvd.jsonl"
   ]
  },
  {
   "cell_type": "code",
   "execution_count": null,
   "id": "diverse-prison",
   "metadata": {
    "tags": []
   },
   "outputs": [],
   "source": [
    "# Import necessary libraries\n",
    "from IPython.core.magic import register_cell_magic\n",
    "from IPython.display import Markdown\n",
    "from datetime import date\n",
    "import calplot\n",
    "import glob\n",
    "import json\n",
    "import logging\n",
    "import matplotlib.pyplot as plt\n",
    "import numpy as np\n",
    "import pandas as pd\n",
    "import warnings\n",
    "\n",
    "# Register a cell magic for Markdown\n",
    "@register_cell_magic\n",
    "def markdown(line, cell):\n",
    "    return Markdown(cell.format(**globals()))\n",
    "\n",
    "# Configure logging and warnings\n",
    "logging.getLogger('matplotlib.font_manager').disabled = True\n",
    "warnings.filterwarnings(\"ignore\")\n",
    "\n",
    "# Set pandas display options\n",
    "pd.set_option('display.width', 500)\n",
    "pd.set_option('display.max_rows', 50)\n",
    "pd.set_option('display.max_columns', 10)"
   ]
  },
  {
   "cell_type": "code",
   "execution_count": 3,
   "id": "organized-ambassador",
   "metadata": {
    "tags": []
   },
   "outputs": [],
   "source": [
    "def get_nested_value(entry, keys, default='Missing_Data'):\n",
    "    try:\n",
    "        for key in keys:\n",
    "            entry = entry[key]\n",
    "        return entry\n",
    "    except (KeyError, IndexError):\n",
    "        return default\n",
    "\n",
    "row_accumulator = []\n",
    "for filename in glob.glob('nvd.jsonl'):\n",
    "    with open(filename, 'r', encoding='utf-8') as f:\n",
    "        nvd_data = json.load(f)\n",
    "        for entry in nvd_data:\n",
    "            new_row = {\n",
    "                'CVE': get_nested_value(entry, ['cve', 'id']),\n",
    "                'Published': get_nested_value(entry, ['cve', 'published']),\n",
    "                'AttackVector': get_nested_value(entry, ['cve', 'metrics', 'cvssMetricV31', 0, 'cvssData', 'attackVector']),\n",
    "                'AttackComplexity': get_nested_value(entry, ['cve', 'metrics', 'cvssMetricV31', 0, 'cvssData', 'attackComplexity']),\n",
    "                'PrivilegesRequired': get_nested_value(entry, ['cve', 'metrics', 'cvssMetricV31', 0, 'cvssData', 'privilegesRequired']),\n",
    "                'UserInteraction': get_nested_value(entry, ['cve', 'metrics', 'cvssMetricV31', 0, 'cvssData', 'userInteraction']),\n",
    "                'Scope': get_nested_value(entry, ['cve', 'metrics', 'cvssMetricV31', 0, 'cvssData', 'scope']),\n",
    "                'ConfidentialityImpact': get_nested_value(entry, ['cve', 'metrics', 'cvssMetricV31', 0, 'cvssData', 'confidentialityImpact']),\n",
    "                'IntegrityImpact': get_nested_value(entry, ['cve', 'metrics', 'cvssMetricV31', 0, 'cvssData', 'integrityImpact']),\n",
    "                'AvailabilityImpact': get_nested_value(entry, ['cve', 'metrics', 'cvssMetricV31', 0, 'cvssData', 'availabilityImpact']),\n",
    "                'BaseScore': get_nested_value(entry, ['cve', 'metrics', 'cvssMetricV31', 0, 'cvssData', 'baseScore'], '0.0'),\n",
    "                'BaseSeverity': get_nested_value(entry, ['cve', 'metrics', 'cvssMetricV31', 0, 'cvssData', 'baseSeverity']),\n",
    "                'ExploitabilityScore': get_nested_value(entry, ['cve', 'metrics', 'cvssMetricV31', 0, 'exploitabilityScore']),\n",
    "                'ImpactScore': get_nested_value(entry, ['cve', 'metrics', 'cvssMetricV31', 0, 'impactScore']),\n",
    "                'CWE': get_nested_value(entry, ['cve', 'weaknesses', 0, 'description', 0, 'value']),\n",
    "                'Description': get_nested_value(entry, ['cve', 'descriptions', 0, 'value'], ''),\n",
    "                'Assigner': get_nested_value(entry, ['cve', 'sourceIdentifier']),\n",
    "                'Tag': get_nested_value(entry, ['cve', 'cveTags', 0, 'tags'], np.nan),\n",
    "                'Status': get_nested_value(entry, ['cve', 'vulnStatus'], '')\n",
    "            }\n",
    "            row_accumulator.append(new_row)\n",
    "\n",
    "nvd = pd.DataFrame(row_accumulator)\n",
    "d = nvd[~nvd.Status.str.contains('Rejected')]\n",
    "nvd['Published'] = pd.to_datetime(nvd['Published'])\n",
    "thisyear = ((nvd['Published'] > '2025-01-01') & (nvd['Published']  < '2025-3-01'))\n",
    "lastyear = ((nvd['Published'] > '2024-01-01') & (nvd['Published']  < '2024-3-01'))\n",
    "\n",
    "nvd['BaseScore'] = pd.to_numeric(nvd['BaseScore']);\n",
    "nvd['BaseScore'] = pd.to_numeric(nvd['BaseScore']);\n",
    "nvd['BaseScore'] = nvd['BaseScore'].replace(0, np.nan);\n",
    "\n",
    "\n",
    "nvd_2025 = nvd.loc[thisyear]\n",
    "nvd_2025 = nvd_2025.sort_values(by=['Published'])\n",
    "nvd_2024 = nvd_2025.reset_index(drop=True)\n",
    "nvdcount_2025 = nvd_2025['Published'].count()\n",
    "startdate_2025 = date(2025, 1, 1)\n",
    "enddate_2025  = date(2025, 2, 1)\n",
    "numberofdays = enddate_2025 - startdate_2025 \n",
    "per_day_2025 = nvdcount_2025/numberofdays.days\n",
    "\n",
    "\n",
    "nvd_2024 = nvd.loc[lastyear]\n",
    "nvd_2024 = nvd_2024.sort_values(by=['Published'])\n",
    "nvd_2024 = nvd_2024.reset_index(drop=True)\n",
    "nvdcount_2024 = nvd_2024['Published'].count()\n",
    "startdate_2024 = date(2024, 1, 1)\n",
    "enddate_2024  = date(2024, 2, 1)\n",
    "numberofdays = enddate_2024 - startdate_2024 \n",
    "per_day_2024 = nvdcount_2024/numberofdays.days\n",
    "\n"
   ]
  },
  {
   "cell_type": "code",
   "execution_count": 4,
   "id": "e04459ff",
   "metadata": {},
   "outputs": [
    {
     "data": {
      "text/markdown": [
       "2025<br />Total Number of CVEs: **8246**<br />Average CVEs Per Day: **266.0**<br />Average CVSS Score: **6.58**"
      ],
      "text/plain": [
       "<IPython.core.display.Markdown object>"
      ]
     },
     "execution_count": 4,
     "metadata": {},
     "output_type": "execute_result"
    }
   ],
   "source": [
    "Markdown(f\"2025<br />Total Number of CVEs: **{nvd_2025['CVE'].count()}**<br />Average CVEs Per Day: **{per_day_2025.round(2)}**<br />Average CVSS Score: **{nvd_2025['BaseScore'].mean().round(2)}**\")"
   ]
  },
  {
   "cell_type": "code",
   "execution_count": 5,
   "id": "b4632614",
   "metadata": {},
   "outputs": [
    {
     "data": {
      "text/markdown": [
       "2024<br />Total Number of CVEs: **5553**<br />Average CVEs Per Day: **179.13**<br />Average CVSS Score: **6.7**"
      ],
      "text/plain": [
       "<IPython.core.display.Markdown object>"
      ]
     },
     "execution_count": 5,
     "metadata": {},
     "output_type": "execute_result"
    }
   ],
   "source": [
    "Markdown(f\"2024<br />Total Number of CVEs: **{nvd_2024['CVE'].count()}**<br />Average CVEs Per Day: **{per_day_2024.round(2)}**<br />Average CVSS Score: **{nvd_2024['BaseScore'].mean().round(2)}**\")"
   ]
  }
 ],
 "metadata": {
  "kernelspec": {
   "display_name": "Python 3",
   "language": "python",
   "name": "python3"
  },
  "language_info": {
   "codemirror_mode": {
    "name": "ipython",
    "version": 3
   },
   "file_extension": ".py",
   "mimetype": "text/x-python",
   "name": "python",
   "nbconvert_exporter": "python",
   "pygments_lexer": "ipython3",
   "version": "3.13.2"
  },
  "vscode": {
   "interpreter": {
    "hash": "7e1998ff7f8aa20ada591c520b972326324e5ea05489af9e422744c7c09f6dad"
   }
  }
 },
 "nbformat": 4,
 "nbformat_minor": 5
}
