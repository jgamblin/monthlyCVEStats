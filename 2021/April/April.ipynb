{
 "cells": [
  {
   "cell_type": "markdown",
   "id": "dominant-court",
   "metadata": {},
   "source": [
    "# April 2021 CVE Data"
   ]
  },
  {
   "cell_type": "markdown",
   "id": "advised-klein",
   "metadata": {},
   "source": [
    "This notebook will pull all [JSON Data](https://nvd.nist.gov/vuln/data-feeds#JSON_FEED) from the NVD and performs some basic data analysis of CVEd data. "
   ]
  },
  {
   "cell_type": "markdown",
   "id": "varied-fellow",
   "metadata": {},
   "source": [
    "## Getting Started"
   ]
  },
  {
   "cell_type": "markdown",
   "id": "surprising-locking",
   "metadata": {},
   "source": [
    "### Collecting Data"
   ]
  },
  {
   "cell_type": "markdown",
   "id": "manufactured-madrid",
   "metadata": {},
   "source": [
    "This cell pulls all JSON files from the NVD that we will be working with."
   ]
  },
  {
   "cell_type": "code",
   "execution_count": 1,
   "id": "green-maldives",
   "metadata": {
    "tags": []
   },
   "outputs": [],
   "source": [
    "%%capture\n",
    "!mkdir -p jsondata\n",
    "%cd jsondata\n",
    "!rm *.json \n",
    "!rm *.zip \n",
    "!wget https://nvd.nist.gov/feeds/json/cve/1.1/nvdcve-1.1-{2020..2021}.json.zip \n",
    "!unzip -o \"*.zip\" "
   ]
  },
  {
   "cell_type": "markdown",
   "id": "liquid-finland",
   "metadata": {
    "tags": []
   },
   "source": [
    "### Import Python Libraries"
   ]
  },
  {
   "cell_type": "code",
   "execution_count": 2,
   "id": "threatened-print",
   "metadata": {
    "tags": []
   },
   "outputs": [],
   "source": [
    "import calplot\n",
    "import glob\n",
    "import logging\n",
    "import json\n",
    "import matplotlib.pyplot as plt\n",
    "import missingno as msno\n",
    "import numpy as np\n",
    "import os\n",
    "import pandas as pd\n",
    "import re\n",
    "import uuid\n",
    "import warnings\n",
    "from datetime import datetime\n",
    "\n",
    "\n",
    "logging.getLogger('matplotlib.font_manager').disabled = True\n",
    "warnings.filterwarnings(\"ignore\")\n"
   ]
  },
  {
   "cell_type": "markdown",
   "id": "ranging-sheep",
   "metadata": {},
   "source": [
    "# 2021 Q1 CVE Data"
   ]
  },
  {
   "cell_type": "markdown",
   "id": "unusual-crystal",
   "metadata": {
    "tags": []
   },
   "source": [
    "### Build Base DataFrame"
   ]
  },
  {
   "cell_type": "markdown",
   "id": "pediatric-blink",
   "metadata": {},
   "source": [
    "This code builds a Panda dataframe from the JSON files we downloaded, removing all CVE's marked rejected."
   ]
  },
  {
   "cell_type": "code",
   "execution_count": 3,
   "id": "informed-interest",
   "metadata": {
    "tags": []
   },
   "outputs": [
    {
     "name": "stdout",
     "output_type": "stream",
     "text": [
      "CVEs from NVD: 1496\n",
      "CVEs Published Per Day: 50.0\n"
     ]
    }
   ],
   "source": [
    "row_accumulator = []\n",
    "for filename in glob.glob('nvdcve-1.1-2021.json'):\n",
    "    with open(filename, 'r', encoding='utf-8') as f:\n",
    "        nvd_data = json.load(f)\n",
    "        for entry in nvd_data['CVE_Items']:\n",
    "            cve = entry['cve']['CVE_data_meta']['ID']\n",
    "            try:\n",
    "                published_date = entry['publishedDate']\n",
    "            except KeyError:\n",
    "                published_date = 'Missing_Data_JG'\n",
    "            try:\n",
    "                attack_vector = entry['impact']['baseMetricV3']['cvssV3']['attackVector']\n",
    "            except KeyError:\n",
    "                attack_vector = 'Missing_Data_JG'\n",
    "            try:\n",
    "                attack_complexity = entry['impact']['baseMetricV3']['cvssV3']['attackComplexity']\n",
    "            except KeyError:\n",
    "                attack_complexity = 'Missing_Data_JG'\n",
    "            try:\n",
    "                privileges_required = entry['impact']['baseMetricV3']['cvssV3']['privilegesRequired']\n",
    "            except KeyError:\n",
    "                privileges_required = 'Missing_Data_JG'\n",
    "            try:\n",
    "                user_interaction = entry['impact']['baseMetricV3']['cvssV3']['userInteraction']\n",
    "            except KeyError:\n",
    "                user_interaction = 'Missing_Data_JG'\n",
    "            try:\n",
    "                scope = entry['impact']['baseMetricV3']['cvssV3']['scope']\n",
    "            except KeyError:\n",
    "                scope = 'Missing_Data_JG'\n",
    "            try:\n",
    "                confidentiality_impact = entry['impact']['baseMetricV3']['cvssV3']['confidentialityImpact']\n",
    "            except KeyError:\n",
    "                confidentiality_impact = 'Missing_Data_JG'\n",
    "            try:\n",
    "                integrity_impact = entry['impact']['baseMetricV3']['cvssV3']['integrityImpact']\n",
    "            except KeyError:\n",
    "                integrity_impact = 'Missing_Data_JG'\n",
    "            try:\n",
    "                availability_impact = entry['impact']['baseMetricV3']['cvssV3']['availabilityImpact']\n",
    "            except KeyError:\n",
    "                availability_impact = 'Missing_Data_JG'\n",
    "            try:\n",
    "                base_score = entry['impact']['baseMetricV3']['cvssV3']['baseScore']\n",
    "            except KeyError:\n",
    "                base_score = '0.0'\n",
    "            try:\n",
    "                base_severity = entry['impact']['baseMetricV3']['cvssV3']['baseSeverity']\n",
    "            except KeyError:\n",
    "                base_severity = 'Missing_Data_JG'\n",
    "            try:\n",
    "                exploitability_score = entry['impact']['baseMetricV3']['exploitabilityScore']\n",
    "            except KeyError:\n",
    "                exploitability_score = 'Missing_Data_JG'\n",
    "            try:\n",
    "                impact_score = entry['impact']['baseMetricV3']['impactScore']\n",
    "            except KeyError:\n",
    "                impact_score = 'Missing_Data_JG'\n",
    "            try:\n",
    "                cwe = entry['cve']['problemtype']['problemtype_data'][0]['description'][0]['value']\n",
    "            except IndexError:\n",
    "                cwe = 'Missing_Data_JG'\n",
    "            try:\n",
    "                description = entry['cve']['description']['description_data'][0]['value']\n",
    "            except IndexError:\n",
    "                description = ''\n",
    "            new_row = { \n",
    "                'CVE': cve, \n",
    "                'Published': published_date,\n",
    "                'AttackVector': attack_vector,\n",
    "                'AttackComplexity': attack_complexity,\n",
    "                'PrivilegesRequired': privileges_required,\n",
    "                'UserInteraction': user_interaction,\n",
    "                'Scope': scope,\n",
    "                'ConfidentialityImpact': confidentiality_impact,\n",
    "                'IntegrityImpact': integrity_impact,\n",
    "                'AvailabilityImpact': availability_impact,\n",
    "                'BaseScore': base_score,\n",
    "                'BaseSeverity': base_severity,\n",
    "                'ExploitabilityScore': exploitability_score,\n",
    "                'ImpactScore': impact_score,\n",
    "                'CWE': cwe,\n",
    "                'Description': description\n",
    "            }\n",
    "            if not description.startswith('Rejected reason'): \n",
    "                row_accumulator.append(new_row)\n",
    "    nvd_2021 = pd.DataFrame(row_accumulator)\n",
    "    \n",
    "\n",
    "\n",
    "nvd_2021 = nvd_2021[(nvd_2021['Published'] > '2021-04-01') & (nvd_2021['Published'] < '2021-05-01')]\n",
    "nvd_2021['Published'] = pd.to_datetime(nvd_2021['Published']).apply(lambda x: x.date())\n",
    "print ('CVEs from NVD:', nvd_2021['CVE'].count())\n",
    "nvdcount = nvd_2021['Published'].count()\n",
    "per_day = nvdcount/30\n",
    "per_day = round(per_day, 0)\n",
    "print('CVEs Published Per Day:', per_day)"
   ]
  },
  {
   "cell_type": "markdown",
   "id": "french-grace",
   "metadata": {},
   "source": [
    "### CVEs Per Day Graph"
   ]
  },
  {
   "cell_type": "code",
   "execution_count": 4,
   "id": "monetary-performance",
   "metadata": {
    "tags": []
   },
   "outputs": [
    {
     "data": {
      "image/png": "[encoded data removed]",
      "text/plain": [
       "<Figure size 1152x576 with 1 Axes>"
      ]
     },
     "metadata": {
      "needs_background": "light"
     },
     "output_type": "display_data"
    }
   ],
   "source": [
    "nvd_data_2021 = nvd_2021['Published'].value_counts()\n",
    "cg = nvd_data_2021.plot(colormap='jet', marker='.', figsize=(16, 8), markersize=2, title='CVEs Per Day')\n",
    "plt.grid()\n",
    "cg.set_ylabel(\"New CVEs\")\n",
    "cg.set_xlabel(\"Date\")\n",
    "plt.savefig('April2021.png', dpi=300, bbox_inches='tight')"
   ]
  },
  {
   "cell_type": "markdown",
   "id": "decreased-snowboard",
   "metadata": {},
   "source": [
    "### Most CVEs Per Day "
   ]
  },
  {
   "cell_type": "code",
   "execution_count": 5,
   "id": "extraordinary-promotion",
   "metadata": {
    "tags": []
   },
   "outputs": [
    {
     "data": {
      "text/plain": [
       "2021-04-22    283\n",
       "2021-04-13    197\n",
       "2021-04-02    103\n",
       "2021-04-29     99\n",
       "2021-04-06     76\n",
       "2021-04-26     65\n",
       "2021-04-05     60\n",
       "2021-04-14     60\n",
       "2021-04-08     57\n",
       "2021-04-01     53\n",
       "Name: Published, dtype: int64"
      ]
     },
     "execution_count": 5,
     "metadata": {},
     "output_type": "execute_result"
    }
   ],
   "source": [
    "nvd_2021['Published'].value_counts().head(10)"
   ]
  },
  {
   "cell_type": "markdown",
   "id": "natural-visit",
   "metadata": {},
   "source": [
    "# CVSS 3 Breakdown"
   ]
  },
  {
   "cell_type": "code",
   "execution_count": 7,
   "id": "divided-moral",
   "metadata": {},
   "outputs": [
    {
     "data": {
      "image/png": "[encoded data removed]",
      "text/plain": [
       "<Figure size 432x288 with 1 Axes>"
      ]
     },
     "metadata": {
      "needs_background": "light"
     },
     "output_type": "display_data"
    }
   ],
   "source": [
    "nvd_2021['BaseScore'] = pd.to_numeric(nvd_2021['BaseScore']);\n",
    "nvd_2021['BaseScore'] = nvd_2021['BaseScore'].replace(0, np.NaN);\n",
    "nvd_2021['BaseScore'].plot(kind=\"hist\", title='CVSS Breakdown');\n",
    "plt.savefig('April2021CVSS.png', dpi=300, bbox_inches='tight')"
   ]
  },
  {
   "cell_type": "markdown",
   "id": "provincial-parallel",
   "metadata": {},
   "source": [
    "Average CVSS Score:"
   ]
  },
  {
   "cell_type": "code",
   "execution_count": 8,
   "id": "laden-taste",
   "metadata": {},
   "outputs": [
    {
     "data": {
      "text/plain": [
       "7.064239482200648"
      ]
     },
     "execution_count": 8,
     "metadata": {},
     "output_type": "execute_result"
    }
   ],
   "source": [
    "nvd_2021['BaseScore'].mean()"
   ]
  },
  {
   "cell_type": "markdown",
   "id": "essential-haven",
   "metadata": {},
   "source": [
    "# April 2020 CVE Data"
   ]
  },
  {
   "cell_type": "markdown",
   "id": "specialized-sender",
   "metadata": {
    "tags": []
   },
   "source": [
    "### Build Base DataFrame"
   ]
  },
  {
   "cell_type": "markdown",
   "id": "divided-fitness",
   "metadata": {},
   "source": [
    "This code builds a Panda dataframe from the JSON files we downloaded, removing all CVE's marked rejected."
   ]
  },
  {
   "cell_type": "code",
   "execution_count": 9,
   "id": "threaded-worship",
   "metadata": {
    "tags": []
   },
   "outputs": [
    {
     "name": "stdout",
     "output_type": "stream",
     "text": [
      "CVEs from NVD: 1393\n",
      "CVEs Published Per Day: 46.0\n"
     ]
    }
   ],
   "source": [
    "row_accumulator = []\n",
    "for filename in glob.glob('nvdcve-1.1-2020.json'):\n",
    "    with open(filename, 'r', encoding='utf-8') as f:\n",
    "        nvd_data = json.load(f)\n",
    "        for entry in nvd_data['CVE_Items']:\n",
    "            cve = entry['cve']['CVE_data_meta']['ID']\n",
    "            try:\n",
    "                published_date = entry['publishedDate']\n",
    "            except KeyError:\n",
    "                published_date = 'Missing_Data_JG'\n",
    "            try:\n",
    "                attack_vector = entry['impact']['baseMetricV3']['cvssV3']['attackVector']\n",
    "            except KeyError:\n",
    "                attack_vector = 'Missing_Data_JG'\n",
    "            try:\n",
    "                attack_complexity = entry['impact']['baseMetricV3']['cvssV3']['attackComplexity']\n",
    "            except KeyError:\n",
    "                attack_complexity = 'Missing_Data_JG'\n",
    "            try:\n",
    "                privileges_required = entry['impact']['baseMetricV3']['cvssV3']['privilegesRequired']\n",
    "            except KeyError:\n",
    "                privileges_required = 'Missing_Data_JG'\n",
    "            try:\n",
    "                user_interaction = entry['impact']['baseMetricV3']['cvssV3']['userInteraction']\n",
    "            except KeyError:\n",
    "                user_interaction = 'Missing_Data_JG'\n",
    "            try:\n",
    "                scope = entry['impact']['baseMetricV3']['cvssV3']['scope']\n",
    "            except KeyError:\n",
    "                scope = 'Missing_Data_JG'\n",
    "            try:\n",
    "                confidentiality_impact = entry['impact']['baseMetricV3']['cvssV3']['confidentialityImpact']\n",
    "            except KeyError:\n",
    "                confidentiality_impact = 'Missing_Data_JG'\n",
    "            try:\n",
    "                integrity_impact = entry['impact']['baseMetricV3']['cvssV3']['integrityImpact']\n",
    "            except KeyError:\n",
    "                integrity_impact = 'Missing_Data_JG'\n",
    "            try:\n",
    "                availability_impact = entry['impact']['baseMetricV3']['cvssV3']['availabilityImpact']\n",
    "            except KeyError:\n",
    "                availability_impact = 'Missing_Data_JG'\n",
    "            try:\n",
    "                base_score = entry['impact']['baseMetricV3']['cvssV3']['baseScore']\n",
    "            except KeyError:\n",
    "                base_score = '0.0'\n",
    "            try:\n",
    "                base_severity = entry['impact']['baseMetricV3']['cvssV3']['baseSeverity']\n",
    "            except KeyError:\n",
    "                base_severity = 'Missing_Data_JG'\n",
    "            try:\n",
    "                exploitability_score = entry['impact']['baseMetricV3']['exploitabilityScore']\n",
    "            except KeyError:\n",
    "                exploitability_score = 'Missing_Data_JG'\n",
    "            try:\n",
    "                impact_score = entry['impact']['baseMetricV3']['impactScore']\n",
    "            except KeyError:\n",
    "                impact_score = 'Missing_Data_JG'\n",
    "            try:\n",
    "                cwe = entry['cve']['problemtype']['problemtype_data'][0]['description'][0]['value']\n",
    "            except IndexError:\n",
    "                cwe = 'Missing_Data_JG'\n",
    "            try:\n",
    "                description = entry['cve']['description']['description_data'][0]['value']\n",
    "            except IndexError:\n",
    "                description = ''\n",
    "            new_row = { \n",
    "                'CVE': cve, \n",
    "                'Published': published_date,\n",
    "                'AttackVector': attack_vector,\n",
    "                'AttackComplexity': attack_complexity,\n",
    "                'PrivilegesRequired': privileges_required,\n",
    "                'UserInteraction': user_interaction,\n",
    "                'Scope': scope,\n",
    "                'ConfidentialityImpact': confidentiality_impact,\n",
    "                'IntegrityImpact': integrity_impact,\n",
    "                'AvailabilityImpact': availability_impact,\n",
    "                'BaseScore': base_score,\n",
    "                'BaseSeverity': base_severity,\n",
    "                'ExploitabilityScore': exploitability_score,\n",
    "                'ImpactScore': impact_score,\n",
    "                'CWE': cwe,\n",
    "                'Description': description\n",
    "            }\n",
    "            if not description.startswith('Rejected reason'): \n",
    "                row_accumulator.append(new_row)\n",
    "    nvd_2020 = pd.DataFrame(row_accumulator)\n",
    "    \n",
    "\n",
    "nvd_2020 = nvd_2020[(nvd_2020['Published'] > '2020-04-01') & (nvd_2020['Published'] < '2020-05-01')]\n",
    "nvd_2020['Published'] = pd.to_datetime(nvd_2020['Published']).apply(lambda x: x.date())\n",
    "print ('CVEs from NVD:', nvd_2020['CVE'].count())\n",
    "nvdcount = nvd_2020['Published'].count()\n",
    "per_day = nvdcount/30\n",
    "per_day = round(per_day, 0)\n",
    "print('CVEs Published Per Day:', per_day)"
   ]
  },
  {
   "cell_type": "markdown",
   "id": "fallen-copying",
   "metadata": {},
   "source": [
    "### CVEs Per Day Graph"
   ]
  },
  {
   "cell_type": "code",
   "execution_count": 10,
   "id": "sixth-composition",
   "metadata": {
    "tags": []
   },
   "outputs": [
    {
     "data": {
      "image/png": "[encoded data removed]",
      "text/plain": [
       "<Figure size 1152x576 with 1 Axes>"
      ]
     },
     "metadata": {
      "needs_background": "light"
     },
     "output_type": "display_data"
    }
   ],
   "source": [
    "nvd_data_2020 = nvd_2020['Published'].value_counts()\n",
    "cg = nvd_data_2020.plot(colormap='jet', marker='.', figsize=(16, 8), markersize=2, title='CVEs Per Day')\n",
    "plt.grid()\n",
    "cg.set_ylabel(\"New CVEs\");\n",
    "cg.set_xlabel(\"Date\");\n",
    "plt.savefig('April2020.png', dpi=300, bbox_inches='tight')"
   ]
  },
  {
   "cell_type": "markdown",
   "id": "driving-rough",
   "metadata": {},
   "source": [
    "### Most CVEs Per Day "
   ]
  },
  {
   "cell_type": "code",
   "execution_count": 11,
   "id": "recorded-fancy",
   "metadata": {
    "tags": []
   },
   "outputs": [
    {
     "data": {
      "text/plain": [
       "2020-04-15    452\n",
       "2020-04-01     98\n",
       "2020-04-08     79\n",
       "2020-04-14     66\n",
       "2020-04-22     63\n",
       "2020-04-29     62\n",
       "2020-04-17     50\n",
       "2020-04-30     48\n",
       "2020-04-27     45\n",
       "2020-04-06     42\n",
       "Name: Published, dtype: int64"
      ]
     },
     "execution_count": 11,
     "metadata": {},
     "output_type": "execute_result"
    }
   ],
   "source": [
    "nvd_2020['Published'].value_counts().head(10)"
   ]
  },
  {
   "cell_type": "markdown",
   "id": "unable-extent",
   "metadata": {
    "tags": []
   },
   "source": [
    "### CVE Heat Map"
   ]
  },
  {
   "cell_type": "markdown",
   "id": "scenic-cloud",
   "metadata": {},
   "source": [
    "# CVSS 3 Breakdown"
   ]
  },
  {
   "cell_type": "code",
   "execution_count": 12,
   "id": "settled-words",
   "metadata": {},
   "outputs": [
    {
     "data": {
      "image/png": "[encoded data removed]",
      "text/plain": [
       "<Figure size 432x288 with 1 Axes>"
      ]
     },
     "metadata": {
      "needs_background": "light"
     },
     "output_type": "display_data"
    }
   ],
   "source": [
    "nvd_2020['BaseScore'] = pd.to_numeric(nvd_2020['BaseScore']);\n",
    "nvd_2020['BaseScore'] = nvd_2020['BaseScore'].replace(0, np.NaN);\n",
    "nvd_2020['BaseScore'].plot(kind=\"hist\", title='CVSS Breakdown');\n",
    "plt.savefig('April2020CVSS.png', dpi=300, bbox_inches='tight')"
   ]
  },
  {
   "cell_type": "markdown",
   "id": "threaded-navigator",
   "metadata": {},
   "source": [
    "Average CVSS Score:"
   ]
  },
  {
   "cell_type": "code",
   "execution_count": 13,
   "id": "removable-average",
   "metadata": {},
   "outputs": [
    {
     "data": {
      "text/plain": [
       "7.083488872936108"
      ]
     },
     "execution_count": 13,
     "metadata": {},
     "output_type": "execute_result"
    }
   ],
   "source": [
    "nvd_2020['BaseScore'].mean()"
   ]
  }
 ],
 "metadata": {
  "kernelspec": {
   "display_name": "Python 3",
   "language": "python",
   "name": "python3"
  },
  "language_info": {
   "codemirror_mode": {
    "name": "ipython",
    "version": 3
   },
   "file_extension": ".py",
   "mimetype": "text/x-python",
   "name": "python",
   "nbconvert_exporter": "python",
   "pygments_lexer": "ipython3",
   "version": "3.7.3"
  }
 },
 "nbformat": 4,
 "nbformat_minor": 5
}